{
  "nbformat": 4,
  "nbformat_minor": 0,
  "metadata": {
    "colab": {
      "provenance": [],
      "include_colab_link": true
    },
    "kernelspec": {
      "name": "python3",
      "display_name": "Python 3"
    },
    "language_info": {
      "name": "python"
    }
  },
  "cells": [
    {
      "cell_type": "markdown",
      "metadata": {
        "id": "view-in-github",
        "colab_type": "text"
      },
      "source": [
        "<a href=\"https://colab.research.google.com/github/Mallickbanani/bm_project/blob/main/python_project_for_beginners.ipynb\" target=\"_parent\"><img src=\"https://colab.research.google.com/assets/colab-badge.svg\" alt=\"Open In Colab\"/></a>"
      ]
    },
    {
      "cell_type": "markdown",
      "source": [
        "### **1.Create Acronyms using python**"
      ],
      "metadata": {
        "id": "45UIMy7WFcMc"
      }
    },
    {
      "cell_type": "markdown",
      "source": [
        "An acronym is a short form of a word created by long words or phrases such as WWW for world wide web."
      ],
      "metadata": {
        "id": "z7h5SctEGHKM"
      }
    },
    {
      "cell_type": "code",
      "execution_count": null,
      "metadata": {
        "colab": {
          "base_uri": "https://localhost:8080/"
        },
        "id": "mYIgYC3V5fju",
        "outputId": "6a790693-97fa-4faa-fea0-ab81bd32e18b"
      },
      "outputs": [
        {
          "output_type": "stream",
          "name": "stdout",
          "text": [
            "Enter the phrase: user input\n",
            "UI\n"
          ]
        }
      ],
      "source": [
        "user_input=str(input(\"Enter the phrase: \"))\n",
        "text=user_input.split()\n",
        "a=\"\"\n",
        "for i in text:\n",
        "  a=a+str(i[0]).upper()\n",
        "print(a)"
      ]
    },
    {
      "cell_type": "markdown",
      "source": [
        "### **Email Slicer with python**\n",
        "\n",
        "we need to devide the email into two string using @ as the separator.5"
      ],
      "metadata": {
        "id": "4qdIIxQ78Xlo"
      }
    },
    {
      "cell_type": "code",
      "source": [
        "email=input(\"enter your email: \").strip()\n",
        "username=email[:email.index(\"@\")]\n",
        "domain_name=email[email.index(\"@\")+1:]\n",
        "format=(f\"your user name is {username} and domain is {domain_name}\")\n",
        "print(format)"
      ],
      "metadata": {
        "colab": {
          "base_uri": "https://localhost:8080/"
        },
        "id": "GN6kc8S64h01",
        "outputId": "f46b607e-ddc0-4341-d553-0fd7f0f9b33e"
      },
      "execution_count": null,
      "outputs": [
        {
          "output_type": "stream",
          "name": "stdout",
          "text": [
            "enter your email: puja@mallick\n",
            "your user name is puja and domain is mallick\n"
          ]
        }
      ]
    },
    {
      "cell_type": "code",
      "source": [
        "user_input=str(input(\"enter the email: \"))\n",
        "result=user_input.split(\"@\")\n",
        "print(\"username: \",result[0])\n",
        "print(\"domainname: \",result[1])"
      ],
      "metadata": {
        "colab": {
          "base_uri": "https://localhost:8080/"
        },
        "id": "o1eG-upR_O3V",
        "outputId": "1375132e-c109-4c78-f4b7-1c35a7a44f4d"
      },
      "execution_count": null,
      "outputs": [
        {
          "output_type": "stream",
          "name": "stdout",
          "text": [
            "enter the email: puja@mallick\n",
            "username:  puja\n",
            "domainname:  mallick\n"
          ]
        }
      ]
    },
    {
      "cell_type": "markdown",
      "source": [
        "### **Story Generator with Python**"
      ],
      "metadata": {
        "id": "xyaFpV_rEPQI"
      }
    },
    {
      "cell_type": "code",
      "source": [
        "import random\n",
        "when =[\"A few days ago\",\"Yesterday\",\"Last night\",\"last month\",\"In summar vacation\"]\n",
        "who=['a rabbit',\"a snake\",\"a puppy\",\"an owl\",\"a baby\"]\n",
        "name=[\"sam\",\"adi\",\"dani\",\"fobu\",\"tomy\"]\n",
        "city=[\"kolkata\",\"mumbai\",\"delhi\",\"kashmir\",\"shimla\"]\n",
        "went=[\"movie\",\"checkup\",\"tour\",\"seminar\",\"school\"]\n",
        "happend=[\"made a lots of friends\",\"eats new dishes\",\"hangout with frieds\",\"visit temples\",\"solve the mistry\"]\n",
        "print(random.choice(when)+', '+random.choice(who)+' , whoes name is '+random.choice(name)+' , that lived in  '+random.choice(city)+\" , went to the \"+random.choice(went)+\" and \"+random.choice(happend))"
      ],
      "metadata": {
        "colab": {
          "base_uri": "https://localhost:8080/"
        },
        "id": "xvShwiEK_2jf",
        "outputId": "f7b14461-938f-4f80-b76f-52db3d44da49"
      },
      "execution_count": null,
      "outputs": [
        {
          "output_type": "stream",
          "name": "stdout",
          "text": [
            "In summar vacation, a puppy , whoes name is fobu , that lived in  delhi , went to the movie and visit temples\n"
          ]
        }
      ]
    },
    {
      "cell_type": "markdown",
      "source": [
        "### **password valid or not**"
      ],
      "metadata": {
        "id": "96FWVMvkJfRf"
      }
    },
    {
      "cell_type": "code",
      "source": [
        "\n",
        "password=input(\"enter the password: \")\n",
        "valid_length=False\n",
        "lower_case=False\n",
        "upper_case=False\n",
        "digit=False\n",
        "valid_char=False\n",
        "if len(password)>=8 and len(password)<=16:\n",
        "    valid_length=True\n",
        "    for i in password:\n",
        "        if i.islower():\n",
        "            lower_case=True\n",
        "        if i.isupper():\n",
        "            upper_case=True\n",
        "        if i.isdigit():\n",
        "            digit=True\n",
        "        if (i==\"@\" or i==\"#\" or i==\":\" or i==\"*\" or i==\"&\"):\n",
        "            valid_char=True\n",
        "if(valid_length==True and lower_case==True and upper_case==True and digit==True and valid_char==True):\n",
        "\n",
        "    print(\"valid\")\n",
        "else:\n",
        "    print(\"invalid\")"
      ],
      "metadata": {
        "colab": {
          "base_uri": "https://localhost:8080/"
        },
        "id": "qsmeN5vsIHJC",
        "outputId": "c0318430-3525-492e-92e6-606100df0fed"
      },
      "execution_count": null,
      "outputs": [
        {
          "output_type": "stream",
          "name": "stdout",
          "text": [
            "enter the password: puja@123\n",
            "invalid\n"
          ]
        }
      ]
    },
    {
      "cell_type": "markdown",
      "source": [
        "### **Rock, Paper, Scissor game with python**"
      ],
      "metadata": {
        "id": "8-ueLVHdOWiZ"
      }
    },
    {
      "cell_type": "code",
      "source": [
        "import random\n",
        "Choice =[\"rock\",\"paper\",\"scissor\"]\n",
        "while True:\n",
        "  print(\"rock, peper, scissor game: \")\n",
        "  youwin,computerwin=0,0\n",
        "  for i in range(1,3):\n",
        "    print(\"round\",i,\"start: \")\n",
        "    print(\"pleaseselect any option between 1,2,3: \")\n",
        "    print(\"1.rock\",\"2.paper\",\"3,scissor\")\n",
        "    your_choice=int(input(\"enter your number: \"))\n",
        "    if your_choice==1:\n",
        "      print(\"you selected rock\")\n",
        "      your_choice=\"rock\"\n",
        "    elif your_choice==2:\n",
        "      print(\"you selected paper\")\n",
        "      your_choice=\"paper\"\n",
        "    elif your_choice==3:\n",
        "      print(\"you selected scissor\")\n",
        "      your_choice=\"scissor\"\n",
        "    else:\n",
        "      print(\"invalid choice\")\n",
        "      break\n",
        "\n",
        "    computer_choice=random.choice(Choice)\n",
        "    print(\"computer select: \",computer_choice)\n",
        "    if your_choice==computer_choice:\n",
        "      youwin=+0\n",
        "      computerwin=+0\n",
        "      print(\"this round is Drawn\")\n",
        "    elif(your_choice==\"paper\" and computer_choice==\"rock\") or (your_choice==\"rock\" and computer_choice==\"scissor\") or (your_choice==\"scissor\" and computer_choice==\"paper\"):\n",
        "      youwin=+1\n",
        "      print(\"you win this round\")\n",
        "    else:\n",
        "      computerwin=+1\n",
        "      print(\"computer win this round\")\n",
        "\n",
        "  if youwin>computerwin:\n",
        "    print(\"you win this game:\")\n",
        "    print(f\"Score is: , your score is {youwin} and computer score is {computerwin} \",sep=\" \")\n",
        "  if youwin<computerwin:\n",
        "    print(\"computer win this game:\")\n",
        "    print(f\"your score is {youwin} and computer score is {computerwin} \",sep=\" \")\n",
        "  else:\n",
        "    print(\"match drawn\")\n",
        "    print(f\"your score is {youwin} and computer score is {computerwin} \",sep=\" \")\n",
        "  user_choice=str(input(\"want to play again? (yes/exit)\"))\n",
        "  if user_choice=='yes' or user_choice=='Yes' or user_choice=='YES':\n",
        "    continue\n",
        "  else:\n",
        "    break\n"
      ],
      "metadata": {
        "id": "LqWm6i2TOUtL",
        "colab": {
          "base_uri": "https://localhost:8080/"
        },
        "outputId": "3b56253e-89c0-4690-dbf5-cd4c06cabdc4"
      },
      "execution_count": null,
      "outputs": [
        {
          "name": "stdout",
          "output_type": "stream",
          "text": [
            "rock, peper, scissor game: \n",
            "round 1 start: \n",
            "pleaseselect any option between 1,2,3: \n",
            "1.rock 2.paper 3,scissor\n",
            "enter your number: 2\n",
            "you selected paper\n",
            "computer select:  paper\n",
            "this round is Drawn\n",
            "round 2 start: \n",
            "pleaseselect any option between 1,2,3: \n",
            "1.rock 2.paper 3,scissor\n",
            "enter your number: 3\n",
            "you selected scissor\n",
            "computer select:  scissor\n",
            "this round is Drawn\n",
            "match drawn\n",
            "your score is 0 and computer score is 0 \n",
            "want to play again? (yes/exit)exit\n"
          ]
        }
      ]
    },
    {
      "cell_type": "markdown",
      "source": [
        "### **QR Code Generator**"
      ],
      "metadata": {
        "id": "sMOS09bXoNd0"
      }
    },
    {
      "cell_type": "code",
      "source": [
        "!pip install qrcode"
      ],
      "metadata": {
        "id": "4ehCtzJzM9jb",
        "colab": {
          "base_uri": "https://localhost:8080/"
        },
        "outputId": "6e450cb0-82b0-4105-87a8-de878bea1e79"
      },
      "execution_count": null,
      "outputs": [
        {
          "output_type": "stream",
          "name": "stdout",
          "text": [
            "Looking in indexes: https://pypi.org/simple, https://us-python.pkg.dev/colab-wheels/public/simple/\n",
            "Collecting qrcode\n",
            "  Downloading qrcode-7.4.2-py3-none-any.whl (46 kB)\n",
            "\u001b[2K     \u001b[90m━━━━━━━━━━━━━━━━━━━━━━━━━━━━━━━━━━━━━━━━\u001b[0m \u001b[32m46.2/46.2 kB\u001b[0m \u001b[31m4.5 MB/s\u001b[0m eta \u001b[36m0:00:00\u001b[0m\n",
            "\u001b[?25hRequirement already satisfied: typing-extensions in /usr/local/lib/python3.10/dist-packages (from qrcode) (4.5.0)\n",
            "Collecting pypng (from qrcode)\n",
            "  Downloading pypng-0.20220715.0-py3-none-any.whl (58 kB)\n",
            "\u001b[2K     \u001b[90m━━━━━━━━━━━━━━━━━━━━━━━━━━━━━━━━━━━━━━━━\u001b[0m \u001b[32m58.1/58.1 kB\u001b[0m \u001b[31m6.5 MB/s\u001b[0m eta \u001b[36m0:00:00\u001b[0m\n",
            "\u001b[?25hInstalling collected packages: pypng, qrcode\n",
            "Successfully installed pypng-0.20220715.0 qrcode-7.4.2\n"
          ]
        }
      ]
    },
    {
      "cell_type": "code",
      "source": [
        "import qrcode\n",
        "qr=qrcode.QRCode(version=6,box_size=6,border=5)\n",
        "data=\"https://www.linkedin.com/in/banani-mallick-155320235\"\n",
        "qr.add_data(data)\n",
        "qr.make(fit=True)\n",
        "img=qr.make_image(fill=\"black\",back_color=\"white\")\n",
        "img.save('text.png')\n",
        "img"
      ],
      "metadata": {
        "colab": {
          "base_uri": "https://localhost:8080/",
          "height": 323
        },
        "id": "eU6Z6rIgougs",
        "outputId": "7d8cbeaf-9ff6-44f0-ce69-46c11137b7c4"
      },
      "execution_count": null,
      "outputs": [
        {
          "output_type": "execute_result",
          "data": {
            "text/plain": [
              "<qrcode.image.pil.PilImage at 0x7fb85add32e0>"
            ],
            "image/png": "[encoded data removed]"
          },
          "metadata": {},
          "execution_count": 15
        }
      ]
    },
    {
      "cell_type": "markdown",
      "source": [
        "### **BMI calculator with Python**"
      ],
      "metadata": {
        "id": "sVeDSd_o5qG2"
      }
    },
    {
      "cell_type": "code",
      "source": [
        "height=float(input(\"enter your height in cm: \"))\n",
        "weight=float(input(\"enter your weight in kg: \"))\n",
        "height=height/100\n",
        "BMI=weight/(height**2)\n",
        "print(\"your body mass index is: \",BMI)\n",
        "if BMI>0:\n",
        "  if BMI<=16:\n",
        "    print(\"you are severely under weight\")\n",
        "  elif BMI<=18.5:\n",
        "    print(\"you are under weight\")\n",
        "  elif BMI<=25:\n",
        "    print(\"you are healthy\")\n",
        "  elif BMI<=30:\n",
        "    print(\"you are over weight\")\n",
        "  else:\n",
        "    print(\"you are severely over weight\")\n",
        "else:\n",
        "  print(\"enter valid details\")\n"
      ],
      "metadata": {
        "colab": {
          "base_uri": "https://localhost:8080/"
        },
        "id": "S4FSDgriuQBF",
        "outputId": "b717df1f-e38e-49a0-b025-fc0219c97cc7"
      },
      "execution_count": null,
      "outputs": [
        {
          "output_type": "stream",
          "name": "stdout",
          "text": [
            "enter your height in cm: 160.02\n",
            "enter your weight in kg: 67\n",
            "your body mass index is:  26.165333257852204\n",
            "you are over weight\n"
          ]
        }
      ]
    },
    {
      "cell_type": "code",
      "source": [],
      "metadata": {
        "id": "ilUS4tBCIa31"
      },
      "execution_count": null,
      "outputs": []
    }
  ]
}